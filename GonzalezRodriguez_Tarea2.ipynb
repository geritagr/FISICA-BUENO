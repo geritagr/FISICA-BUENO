{
  "nbformat": 4,
  "nbformat_minor": 0,
  "metadata": {
    "colab": {
      "provenance": [],
      "authorship_tag": "ABX9TyOJC65l1oH4ewu7g8fxzWU5"
    },
    "kernelspec": {
      "name": "python3",
      "display_name": "Python 3"
    },
    "language_info": {
      "name": "python"
    }
  },
  "cells": [
    {
      "cell_type": "markdown",
      "source": [
        "Tarea-Practica 2\n",
        "Gonzalez Rodriguez Guadalupe Geraldine"
      ],
      "metadata": {
        "id": "3T8AOLej7uiy"
      }
    },
    {
      "cell_type": "markdown",
      "source": [
        "***Números de Catalan:***\n",
        "Los numeros de Catalan $C_n$ son una secuencia de números enteros 1, 1, 2, 5, 14, 42, 132 que juegan un papel importante en la mecanica cuántica y la teoría de los sistemas desordenados. (Eran fundamentales para la prueba de Eugene Wigner de la llamada\n",
        "ley del semicírculo). Se definen por:\n",
        "\n",
        "$$C_0 = 1, \\quad C_n+1 = \\frac{4n + 2}{n + 2}\n",
        "C_n$$\n",
        "\n",
        "Escribe un programa que imprima en orden creciente todos los numeros de Catalan $C_n$ menores o iguales a $1\\times 10^9$ (mil millones)."
      ],
      "metadata": {
        "id": "UXksWQiE74c8"
      }
    },
    {
      "cell_type": "code",
      "execution_count": null,
      "metadata": {
        "id": "nt9vNmgX7cA4"
      },
      "outputs": [],
      "source": []
    },
    {
      "cell_type": "code",
      "source": [],
      "metadata": {
        "id": "qOgvSgUD9QmB"
      },
      "execution_count": null,
      "outputs": []
    }
  ]
}