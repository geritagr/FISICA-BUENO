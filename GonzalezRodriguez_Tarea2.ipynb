{
  "nbformat": 4,
  "nbformat_minor": 0,
  "metadata": {
    "colab": {
      "provenance": [],
      "authorship_tag": "ABX9TyMdg2oNQmvYTK2KLlD+RkdU",
      "include_colab_link": true
    },
    "kernelspec": {
      "name": "python3",
      "display_name": "Python 3"
    },
    "language_info": {
      "name": "python"
    }
  },
  "cells": [
    {
      "cell_type": "markdown",
      "metadata": {
        "id": "view-in-github",
        "colab_type": "text"
      },
      "source": [
        "<a href=\"https://colab.research.google.com/github/geritagr/FISICA-BUENO/blob/main/GonzalezRodriguez_Tarea2.ipynb\" target=\"_parent\"><img src=\"https://colab.research.google.com/assets/colab-badge.svg\" alt=\"Open In Colab\"/></a>"
      ]
    },
    {
      "cell_type": "markdown",
      "source": [
        "Tarea-Practica 2\n",
        "Gonzalez Rodriguez Guadalupe Geraldine"
      ],
      "metadata": {
        "id": "3T8AOLej7uiy"
      }
    },
    {
      "cell_type": "markdown",
      "source": [
        "***Números de Catalan:***\n",
        "Los numeros de Catalan $C_n$ son una secuencia de números enteros 1, 1, 2, 5, 14, 42, 132 que juegan un papel importante en la mecanica cuántica y la teoría de los sistemas desordenados. (Eran fundamentales para la prueba de Eugene Wigner de la llamada\n",
        "ley del semicírculo). Se definen por:\n",
        "\n",
        "$$C_0 = 1, \\quad C_n+1 = \\frac{4n + 2}{n + 2}\n",
        "C_n$$\n",
        "\n",
        "Escribe un programa que imprima en orden creciente todos los numeros de Catalan $C_n$ menores o iguales a $1\\times 10^9$ (mil millones)."
      ],
      "metadata": {
        "id": "UXksWQiE74c8"
      }
    },
    {
      "cell_type": "code",
      "execution_count": 3,
      "metadata": {
        "colab": {
          "base_uri": "https://localhost:8080/",
          "height": 264
        },
        "id": "nt9vNmgX7cA4",
        "outputId": "fa2df8c4-cb71-4717-c382-441051ff5479"
      },
      "outputs": [
        {
          "output_type": "stream",
          "name": "stdout",
          "text": [
            "C_n=1\n"
          ]
        },
        {
          "output_type": "error",
          "ename": "TypeError",
          "evalue": "ignored",
          "traceback": [
            "\u001b[0;31m---------------------------------------------------------------------------\u001b[0m",
            "\u001b[0;31mTypeError\u001b[0m                                 Traceback (most recent call last)",
            "\u001b[0;32m<ipython-input-3-3873b772f520>\u001b[0m in \u001b[0;36m<cell line: 9>\u001b[0;34m()\u001b[0m\n\u001b[1;32m      9\u001b[0m \u001b[0;32mwhile\u001b[0m \u001b[0;32mTrue\u001b[0m\u001b[0;34m:\u001b[0m\u001b[0;34m\u001b[0m\u001b[0;34m\u001b[0m\u001b[0m\n\u001b[1;32m     10\u001b[0m   \u001b[0mc_n\u001b[0m\u001b[0;34m=\u001b[0m\u001b[0mcatalan\u001b[0m\u001b[0;34m(\u001b[0m\u001b[0mn\u001b[0m\u001b[0;34m)\u001b[0m\u001b[0;34m\u001b[0m\u001b[0;34m\u001b[0m\u001b[0m\n\u001b[0;32m---> 11\u001b[0;31m   \u001b[0;32mif\u001b[0m \u001b[0mc_n\u001b[0m \u001b[0;34m<=\u001b[0m \u001b[0mlimite\u001b[0m\u001b[0;34m:\u001b[0m\u001b[0;34m\u001b[0m\u001b[0;34m\u001b[0m\u001b[0m\n\u001b[0m\u001b[1;32m     12\u001b[0m     \u001b[0mprint\u001b[0m\u001b[0;34m(\u001b[0m\u001b[0;34mf\"C_n={c_n}\"\u001b[0m\u001b[0;34m)\u001b[0m\u001b[0;34m\u001b[0m\u001b[0;34m\u001b[0m\u001b[0m\n\u001b[1;32m     13\u001b[0m     \u001b[0mn\u001b[0m\u001b[0;34m+=\u001b[0m\u001b[0;36m1\u001b[0m\u001b[0;34m\u001b[0m\u001b[0;34m\u001b[0m\u001b[0m\n",
            "\u001b[0;31mTypeError\u001b[0m: '<=' not supported between instances of 'NoneType' and 'float'"
          ]
        }
      ],
      "source": [
        "def catalan(n):\n",
        "  if n==0:\n",
        "    return 1\n",
        "  else:\n",
        "    catalan(n-1)*(4*n-2)//(n+1)\n",
        "\n",
        "limite=10e9\n",
        "n=0\n",
        "while True:\n",
        "  c_n=catalan(n)\n",
        "  if c_n <= limite:\n",
        "    print(f\"C_n={c_n}\")\n",
        "    n+=1\n",
        "  else:\n",
        "          break"
      ]
    },
    {
      "cell_type": "code",
      "source": [],
      "metadata": {
        "id": "qOgvSgUD9QmB"
      },
      "execution_count": null,
      "outputs": []
    }
  ]
}